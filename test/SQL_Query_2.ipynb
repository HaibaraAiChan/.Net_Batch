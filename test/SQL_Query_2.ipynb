{
 "cells": [
  {
   "cell_type": "code",
   "execution_count": 6,
   "id": "943a8b74",
   "metadata": {},
   "outputs": [
    {
     "name": "stdout",
     "output_type": "stream",
     "text": [
      "   EmployeeID   LastName FirstName                     Title TitleOfCourtesy  BirthDate   HireDate                           Address      City Region PostalCode Country       HomePhone Extension                                              Photo                                              Notes  ReportsTo                               PhotoPath\n",
      "0           1    Davolio     Nancy      Sales Representative             Ms. 1948-12-08 1992-05-01     507 - 20th Ave. E.\\r\\nApt. 2A   Seattle     WA      98122     USA  (206) 555-9857      5467  b'\\x15\\x1c/\\x00\\x02\\x00\\x00\\x00\\r\\x00\\x0e\\x00\\...  Education includes a BA in psychology from Col...        2.0    http://accweb/emmployees/davolio.bmp\n",
      "1           2     Fuller    Andrew     Vice President, Sales             Dr. 1952-02-19 1992-08-14                908 W. Capital Way    Tacoma     WA      98401     USA  (206) 555-9482      3457  b'\\x15\\x1c/\\x00\\x02\\x00\\x00\\x00\\r\\x00\\x0e\\x00\\...  Andrew received his BTS commercial in 1974 and...        NaN     http://accweb/emmployees/fuller.bmp\n",
      "2           3  Leverling     Janet      Sales Representative             Ms. 1963-08-30 1992-04-01                722 Moss Bay Blvd.  Kirkland     WA      98033     USA  (206) 555-3412      3355  b'\\x15\\x1c/\\x00\\x02\\x00\\x00\\x00\\r\\x00\\x0e\\x00\\...  Janet has a BS degree in chemistry from Boston...        2.0  http://accweb/emmployees/leverling.bmp\n",
      "3           4    Peacock  Margaret      Sales Representative            Mrs. 1937-09-19 1993-05-03              4110 Old Redmond Rd.   Redmond     WA      98052     USA  (206) 555-8122      5176  b'\\x15\\x1c/\\x00\\x02\\x00\\x00\\x00\\r\\x00\\x0e\\x00\\...  Margaret holds a BA in English literature from...        2.0    http://accweb/emmployees/peacock.bmp\n",
      "4           5   Buchanan    Steven             Sales Manager             Mr. 1955-03-04 1993-10-17                   14 Garrett Hill    London   None    SW1 8JR      UK   (71) 555-4848      3453  b'\\x15\\x1c/\\x00\\x02\\x00\\x00\\x00\\r\\x00\\x0e\\x00\\...  Steven Buchanan graduated from St. Andrews Uni...        2.0   http://accweb/emmployees/buchanan.bmp\n",
      "5           6     Suyama   Michael      Sales Representative             Mr. 1963-07-02 1993-10-17       Coventry House\\r\\nMiner Rd.    London   None    EC2 7JR      UK   (71) 555-7773       428  b'\\x15\\x1c/\\x00\\x02\\x00\\x00\\x00\\r\\x00\\x0e\\x00\\...  Michael is a graduate of Sussex University (MA...        5.0    http://accweb/emmployees/davolio.bmp\n",
      "6           7       King    Robert      Sales Representative             Mr. 1960-05-29 1994-01-02  Edgeham Hollow\\r\\nWinchester Way    London   None    RG1 9SP      UK   (71) 555-5598       465  b'\\x15\\x1c/\\x00\\x02\\x00\\x00\\x00\\r\\x00\\x0e\\x00\\...  Robert King served in the Peace Corps and trav...        5.0    http://accweb/emmployees/davolio.bmp\n",
      "7           8   Callahan     Laura  Inside Sales Coordinator             Ms. 1958-01-09 1994-03-05             4726 - 11th Ave. N.E.   Seattle     WA      98105     USA  (206) 555-1189      2344  b'\\x15\\x1c/\\x00\\x02\\x00\\x00\\x00\\r\\x00\\x0e\\x00\\...  Laura received a BA in psychology from the Uni...        2.0    http://accweb/emmployees/davolio.bmp\n",
      "8           9  Dodsworth      Anne      Sales Representative             Ms. 1966-01-27 1994-11-15                 7 Houndstooth Rd.    London   None    WG2 7LT      UK   (71) 555-4444       452  b'\\x15\\x1c/\\x00\\x02\\x00\\x00\\x00\\r\\x00\\x0e\\x00\\...  Anne has a BA degree in English from St. Lawre...        5.0    http://accweb/emmployees/davolio.bmp\n",
      "------------------------------------------------------\n",
      "     OrderID CustomerID  EmployeeID  OrderDate RequiredDate ShippedDate  ShipVia  Freight                    ShipName               ShipAddress        ShipCity ShipRegion ShipPostalCode  ShipCountry\n",
      "0      10248      VINET           5 1996-07-04   1996-08-01  1996-07-16        3    32.38   Vins et alcools Chevalier        59 rue de l'Abbaye           Reims       None          51100       France\n",
      "1      10249      TOMSP           6 1996-07-05   1996-08-16  1996-07-10        1    11.61          Toms Spezialitäten             Luisenstr. 48         Münster       None          44087      Germany\n",
      "2      10250      HANAR           4 1996-07-08   1996-08-05  1996-07-12        2    65.83               Hanari Carnes           Rua do Paço, 67  Rio de Janeiro         RJ      05454-876       Brazil\n",
      "3      10251      VICTE           3 1996-07-08   1996-08-05  1996-07-15        1    41.34        Victuailles en stock        2, rue du Commerce            Lyon       None          69004       France\n",
      "4      10252      SUPRD           4 1996-07-09   1996-08-06  1996-07-11        2    51.30            Suprêmes délices      Boulevard Tirou, 255       Charleroi       None         B-6000      Belgium\n",
      "..       ...        ...         ...        ...          ...         ...      ...      ...                         ...                       ...             ...        ...            ...          ...\n",
      "825    11073      PERIC           2 1998-05-05   1998-06-02         NaT        2    24.95   Pericles Comidas clásicas  Calle Dr. Jorge Cash 321     México D.F.       None          05033       Mexico\n",
      "826    11074      SIMOB           7 1998-05-06   1998-06-03         NaT        2    18.44               Simons bistro              Vinbæltet 34       Kobenhavn       None           1734      Denmark\n",
      "827    11075      RICSU           8 1998-05-06   1998-06-03         NaT        2     6.19          Richter Supermarkt               Starenweg 5          Genève       None           1204  Switzerland\n",
      "828    11076      BONAP           4 1998-05-06   1998-06-03         NaT        2    38.28                    Bon app'      12, rue des Bouchers       Marseille       None          13008       France\n",
      "829    11077      RATTC           1 1998-05-06   1998-06-03         NaT        2     8.53  Rattlesnake Canyon Grocery           2817 Milton Dr.     Albuquerque         NM          87110          USA\n",
      "\n",
      "[830 rows x 14 columns]\n",
      "\n",
      "\n",
      "------------------------------------------------------\n"
     ]
    },
    {
     "name": "stderr",
     "output_type": "stream",
     "text": [
      "C:\\Users\\ysy\\AppData\\Local\\Temp\\ipykernel_15264\\2513892339.py:12: UserWarning: pandas only supports SQLAlchemy connectable (engine/connection) or database string URI or sqlite3 DBAPI2 connection. Other DBAPI2 objects are not tested. Please consider using SQLAlchemy.\n",
      "  df = pd.read_sql(\"\"\"\n",
      "C:\\Users\\ysy\\AppData\\Local\\Temp\\ipykernel_15264\\2513892339.py:22: UserWarning: pandas only supports SQLAlchemy connectable (engine/connection) or database string URI or sqlite3 DBAPI2 connection. Other DBAPI2 objects are not tested. Please consider using SQLAlchemy.\n",
      "  df = pd.read_sql(\"\"\"\n"
     ]
    }
   ],
   "source": [
    "import pyodbc\n",
    "import pandas as pd\n",
    "\n",
    "conn = pyodbc.connect(\n",
    "    'DRIVER={ODBC Driver 17 for SQL Server};'\n",
    "    'SERVER=DESKTOP-VHHBRU7\\\\SQLEXPRESS;'\n",
    "    'DATABASE=Northwind;'\n",
    "    'Trusted_Connection=yes;'\n",
    ")\n",
    "\n",
    "# read to DataFrame\n",
    "df = pd.read_sql(\"\"\"\n",
    "    SELECT  * FROM dbo.Employees\n",
    "\"\"\", conn)\n",
    "\n",
    "# all columns, no line wrapping\n",
    "pd.set_option('display.max_columns', None)\n",
    "pd.set_option('display.expand_frame_repr', False)\n",
    "print(df)\n",
    "\n",
    "print('------------------------------------------------------')\n",
    "df = pd.read_sql(\"\"\"\n",
    "    SELECT  * FROM orders\n",
    "\"\"\", conn)\n",
    "\n",
    "# all columns, no line wrapping\n",
    "pd.set_option('display.max_columns', None)\n",
    "pd.set_option('display.expand_frame_repr', False)\n",
    "print(df)\n",
    "print('\\n')\n",
    "print('------------------------------------------------------')\n",
    "\n",
    "\n",
    "conn.close()\n",
    "\n"
   ]
  },
  {
   "cell_type": "code",
   "execution_count": null,
   "id": "3ad977c4",
   "metadata": {},
   "outputs": [
    {
     "name": "stdout",
     "output_type": "stream",
     "text": [
      "------------------------------------------------------\n",
      "     EmployeeID      EmployeeName  OrderDate\n",
      "0             5   Steven Buchanan 1996-07-04\n",
      "1             6    Michael Suyama 1996-07-05\n",
      "2             4  Margaret Peacock 1996-07-08\n",
      "3             3   Janet Leverling 1996-07-08\n",
      "4             4  Margaret Peacock 1996-07-09\n",
      "..          ...               ...        ...\n",
      "825           2     Andrew Fuller 1998-05-05\n",
      "826           7       Robert King 1998-05-06\n",
      "827           8    Laura Callahan 1998-05-06\n",
      "828           4  Margaret Peacock 1998-05-06\n",
      "829           1     Nancy Davolio 1998-05-06\n",
      "\n",
      "[830 rows x 3 columns]\n"
     ]
    },
    {
     "name": "stderr",
     "output_type": "stream",
     "text": [
      "C:\\Users\\ysy\\AppData\\Local\\Temp\\ipykernel_15264\\1287619253.py:32: UserWarning: pandas only supports SQLAlchemy connectable (engine/connection) or database string URI or sqlite3 DBAPI2 connection. Other DBAPI2 objects are not tested. Please consider using SQLAlchemy.\n",
      "  df = pd.read_sql(\"\"\"\n"
     ]
    }
   ],
   "source": [
    "import pyodbc\n",
    "import pandas as pd\n",
    "\n",
    "conn = pyodbc.connect(\n",
    "    'DRIVER={ODBC Driver 17 for SQL Server};'\n",
    "    'SERVER=DESKTOP-VHHBRU7\\\\SQLEXPRESS;'\n",
    "    'DATABASE=Northwind;'\n",
    "    'Trusted_Connection=yes;'\n",
    ")\n",
    "\n",
    "print('------------------------------------------------------')\n",
    "df = pd.read_sql(\"\"\"\n",
    "    SELECT e.EmployeeID, e.firstname + ' ' + e.lastname as EmployeeName, o.OrderDate\n",
    "    FROM dbo.Employees e\n",
    "    INNER JOIN dbo.Orders o \n",
    "    ON e.EmployeeID = o.EmployeeID\n",
    "\"\"\", conn)\n",
    "\n",
    "# all columns, no line wrapping\n",
    "pd.set_option('display.max_columns', None)\n",
    "pd.set_option('display.expand_frame_repr', False)\n",
    "print(df)\n",
    "\n",
    "conn.close()\n",
    "\n"
   ]
  },
  {
   "cell_type": "code",
   "execution_count": 12,
   "id": "c51b9b80",
   "metadata": {},
   "outputs": [
    {
     "name": "stdout",
     "output_type": "stream",
     "text": [
      "2 get customers information and corresponding order date ------------------------------------------------------\n",
      "             CompanyName      City  country  orderdate\n",
      "0    Alfreds Futterkiste    Berlin  Germany 1997-08-25\n",
      "1    Alfreds Futterkiste    Berlin  Germany 1997-10-03\n",
      "2    Alfreds Futterkiste    Berlin  Germany 1997-10-13\n",
      "3    Alfreds Futterkiste    Berlin  Germany 1998-01-15\n",
      "4    Alfreds Futterkiste    Berlin  Germany 1998-03-16\n",
      "..                   ...       ...      ...        ...\n",
      "825       Wolski  Zajazd  Warszawa   Poland 1996-12-05\n",
      "826       Wolski  Zajazd  Warszawa   Poland 1998-02-25\n",
      "827       Wolski  Zajazd  Warszawa   Poland 1998-02-04\n",
      "828       Wolski  Zajazd  Warszawa   Poland 1998-04-03\n",
      "829       Wolski  Zajazd  Warszawa   Poland 1998-04-23\n",
      "\n",
      "[830 rows x 4 columns]\n"
     ]
    },
    {
     "name": "stderr",
     "output_type": "stream",
     "text": [
      "C:\\Users\\ysy\\AppData\\Local\\Temp\\ipykernel_15264\\1005283253.py:12: UserWarning: pandas only supports SQLAlchemy connectable (engine/connection) or database string URI or sqlite3 DBAPI2 connection. Other DBAPI2 objects are not tested. Please consider using SQLAlchemy.\n",
      "  df = pd.read_sql(\"\"\"\n"
     ]
    }
   ],
   "source": [
    "import pyodbc\n",
    "import pandas as pd\n",
    "\n",
    "conn = pyodbc.connect(\n",
    "    'DRIVER={ODBC Driver 17 for SQL Server};'\n",
    "    'SERVER=DESKTOP-VHHBRU7\\\\SQLEXPRESS;'\n",
    "    'DATABASE=Northwind;'\n",
    "    'Trusted_Connection=yes;'\n",
    ")\n",
    "\n",
    "print('2 get customers information and corresponding order date ------------------------------------------------------')\n",
    "df = pd.read_sql(\"\"\"\n",
    "    select c.CompanyName, c.City, c.country, o.orderdate\n",
    "    from Customers c \n",
    "    inner join orders o \n",
    "    on c.CustomerID = o.CustomerID\n",
    "    order by c.CompanyName\n",
    "\"\"\", conn)\n",
    "\n",
    "# all columns, no line wrapping\n",
    "pd.set_option('display.max_columns', None)\n",
    "pd.set_option('display.expand_frame_repr', False)\n",
    "print(df)\n",
    "\n",
    "conn.close()\n",
    "\n"
   ]
  },
  {
   "cell_type": "code",
   "execution_count": 13,
   "id": "73d81814",
   "metadata": {},
   "outputs": [
    {
     "name": "stdout",
     "output_type": "stream",
     "text": [
      "3 join multiple tables ------------------------------------------------------\n",
      "     EmployeeID      EmployeeName  OrderDate\n",
      "0             5   Steven Buchanan 1996-07-04\n",
      "1             6    Michael Suyama 1996-07-05\n",
      "2             4  Margaret Peacock 1996-07-08\n",
      "3             3   Janet Leverling 1996-07-08\n",
      "4             4  Margaret Peacock 1996-07-09\n",
      "..          ...               ...        ...\n",
      "825           2     Andrew Fuller 1998-05-05\n",
      "826           7       Robert King 1998-05-06\n",
      "827           8    Laura Callahan 1998-05-06\n",
      "828           4  Margaret Peacock 1998-05-06\n",
      "829           1     Nancy Davolio 1998-05-06\n",
      "\n",
      "[830 rows x 3 columns]\n"
     ]
    },
    {
     "name": "stderr",
     "output_type": "stream",
     "text": [
      "C:\\Users\\ysy\\AppData\\Local\\Temp\\ipykernel_15264\\627592821.py:12: UserWarning: pandas only supports SQLAlchemy connectable (engine/connection) or database string URI or sqlite3 DBAPI2 connection. Other DBAPI2 objects are not tested. Please consider using SQLAlchemy.\n",
      "  df = pd.read_sql(\"\"\"\n"
     ]
    }
   ],
   "source": [
    "import pyodbc\n",
    "import pandas as pd\n",
    "\n",
    "conn = pyodbc.connect(\n",
    "    'DRIVER={ODBC Driver 17 for SQL Server};'\n",
    "    'SERVER=DESKTOP-VHHBRU7\\\\SQLEXPRESS;'\n",
    "    'DATABASE=Northwind;'\n",
    "    'Trusted_Connection=yes;'\n",
    ")\n",
    "\n",
    "print('3 join multiple tables ------------------------------------------------------')\n",
    "df = pd.read_sql(\"\"\"\n",
    "    SELECT e.EmployeeID, e.firstname + ' ' + e.lastname as EmployeeName, o.OrderDate\n",
    "    from Customers c \n",
    "    inner join orders o \n",
    "    on c.CustomerID = o.CustomerID\n",
    "    INNER JOIN dbo.Employees e\n",
    "    ON e.EmployeeID = o.EmployeeID\n",
    "\"\"\", conn)\n",
    "\n",
    "# all columns, no line wrapping\n",
    "pd.set_option('display.max_columns', None)\n",
    "pd.set_option('display.expand_frame_repr', False)\n",
    "print(df)\n",
    "\n",
    "conn.close()\n",
    "\n"
   ]
  },
  {
   "cell_type": "code",
   "execution_count": 1,
   "id": "f6218301",
   "metadata": {},
   "outputs": [
    {
     "name": "stdout",
     "output_type": "stream",
     "text": [
      "4 LEFT OUTER JOIN ------------------------------------------------------\n",
      "             ContactName  OrderID\n",
      "0             Diego Roel      NaN\n",
      "1         Marie Bertrand      NaN\n",
      "2           Paul Henriot  10248.0\n",
      "3          Karin Josephs  10249.0\n",
      "4           Mario Pontes  10250.0\n",
      "..                   ...      ...\n",
      "827  Guillermo Fernández  11073.0\n",
      "828       Jytte Petersen  11074.0\n",
      "829         Michael Holz  11075.0\n",
      "830     Laurence Lebihan  11076.0\n",
      "831         Paula Wilson  11077.0\n",
      "\n",
      "[832 rows x 2 columns]\n"
     ]
    },
    {
     "name": "stderr",
     "output_type": "stream",
     "text": [
      "C:\\Users\\ysy\\AppData\\Local\\Temp\\ipykernel_11524\\3731498654.py:12: UserWarning: pandas only supports SQLAlchemy connectable (engine/connection) or database string URI or sqlite3 DBAPI2 connection. Other DBAPI2 objects are not tested. Please consider using SQLAlchemy.\n",
      "  df = pd.read_sql(\"\"\"\n"
     ]
    }
   ],
   "source": [
    "import pyodbc\n",
    "import pandas as pd\n",
    "\n",
    "conn = pyodbc.connect(\n",
    "    'DRIVER={ODBC Driver 17 for SQL Server};'\n",
    "    'SERVER=DESKTOP-VHHBRU7\\\\SQLEXPRESS;'\n",
    "    'DATABASE=Northwind;'\n",
    "    'Trusted_Connection=yes;'\n",
    ")\n",
    "\n",
    "print('4 LEFT OUTER JOIN ------------------------------------------------------')\n",
    "df = pd.read_sql(\"\"\"\n",
    "    SELECT c.ContactName, o.OrderID\n",
    "    from Customers c \n",
    "    left join orders o \n",
    "    on c.CustomerID = o.CustomerID\n",
    "    order by o.OrderID\n",
    "\"\"\", conn)\n",
    "\n",
    "# all columns, no line wrapping\n",
    "pd.set_option('display.max_columns', None)\n",
    "pd.set_option('display.expand_frame_repr', False)\n",
    "print(df)\n",
    "\n",
    "conn.close()\n",
    "\n"
   ]
  },
  {
   "cell_type": "code",
   "execution_count": 2,
   "id": "1442782b",
   "metadata": {},
   "outputs": [
    {
     "name": "stdout",
     "output_type": "stream",
     "text": [
      "5 RIGHT OUTER JOIN ------------------------------------------------------\n",
      "             ContactName  OrderID\n",
      "0           Paul Henriot    10248\n",
      "1          Karin Josephs    10249\n",
      "2           Mario Pontes    10250\n",
      "3           Mary Saveley    10251\n",
      "4       Pascale Cartrain    10252\n",
      "..                   ...      ...\n",
      "825  Guillermo Fernández    11073\n",
      "826       Jytte Petersen    11074\n",
      "827         Michael Holz    11075\n",
      "828     Laurence Lebihan    11076\n",
      "829         Paula Wilson    11077\n",
      "\n",
      "[830 rows x 2 columns]\n"
     ]
    },
    {
     "name": "stderr",
     "output_type": "stream",
     "text": [
      "C:\\Users\\ysy\\AppData\\Local\\Temp\\ipykernel_11524\\3127356245.py:12: UserWarning: pandas only supports SQLAlchemy connectable (engine/connection) or database string URI or sqlite3 DBAPI2 connection. Other DBAPI2 objects are not tested. Please consider using SQLAlchemy.\n",
      "  df = pd.read_sql(\"\"\"\n"
     ]
    }
   ],
   "source": [
    "import pyodbc\n",
    "import pandas as pd\n",
    "\n",
    "conn = pyodbc.connect(\n",
    "    'DRIVER={ODBC Driver 17 for SQL Server};'\n",
    "    'SERVER=DESKTOP-VHHBRU7\\\\SQLEXPRESS;'\n",
    "    'DATABASE=Northwind;'\n",
    "    'Trusted_Connection=yes;'\n",
    ")\n",
    "\n",
    "print('5 RIGHT OUTER JOIN ------------------------------------------------------')\n",
    "df = pd.read_sql(\"\"\"\n",
    "    SELECT c.ContactName, o.OrderID\n",
    "    from Customers c \n",
    "    right join orders o \n",
    "    on c.CustomerID = o.CustomerID\n",
    "    order by o.OrderID\n",
    "\"\"\", conn)\n",
    "\n",
    "# all columns, no line wrapping\n",
    "pd.set_option('display.max_columns', None)\n",
    "pd.set_option('display.expand_frame_repr', False)\n",
    "print(df)\n",
    "\n",
    "conn.close()\n",
    "\n"
   ]
  },
  {
   "cell_type": "code",
   "execution_count": 3,
   "id": "46a5bb09",
   "metadata": {},
   "outputs": [
    {
     "name": "stdout",
     "output_type": "stream",
     "text": [
      "6 FULL OUTER JOIN ------------------------------------------------------\n",
      "        ContactName CustomerCountry SupplierCountry                             CompanyName\n",
      "0      Maria Anders         Germany         Germany             Heli Süßwaren GmbH & Co. KG\n",
      "1      Maria Anders         Germany         Germany       Plutzer Lebensmittelgroßmärkte AG\n",
      "2      Maria Anders         Germany         Germany  Nord-Ost-Fisch Handelsgesellschaft mbH\n",
      "3      Ana Trujillo          Mexico            None                                    None\n",
      "4    Antonio Moreno          Mexico            None                                    None\n",
      "..              ...             ...             ...                                     ...\n",
      "190            None            None       Australia                           Pavlova, Ltd.\n",
      "191            None            None       Australia                             G'day, Mate\n",
      "192            None            None           Japan                           Tokyo Traders\n",
      "193            None            None           Japan                                Mayumi's\n",
      "194            None            None       Singapore                            Leka Trading\n",
      "\n",
      "[195 rows x 4 columns]\n"
     ]
    },
    {
     "name": "stderr",
     "output_type": "stream",
     "text": [
      "C:\\Users\\ysy\\AppData\\Local\\Temp\\ipykernel_11524\\564688614.py:12: UserWarning: pandas only supports SQLAlchemy connectable (engine/connection) or database string URI or sqlite3 DBAPI2 connection. Other DBAPI2 objects are not tested. Please consider using SQLAlchemy.\n",
      "  df = pd.read_sql(\"\"\"\n"
     ]
    }
   ],
   "source": [
    "import pyodbc\n",
    "import pandas as pd\n",
    "\n",
    "conn = pyodbc.connect(\n",
    "    'DRIVER={ODBC Driver 17 for SQL Server};'\n",
    "    'SERVER=DESKTOP-VHHBRU7\\\\SQLEXPRESS;'\n",
    "    'DATABASE=Northwind;'\n",
    "    'Trusted_Connection=yes;'\n",
    ")\n",
    "\n",
    "print('6 FULL OUTER JOIN ------------------------------------------------------')\n",
    "df = pd.read_sql(\"\"\"\n",
    "    SELECT c.ContactName, c.Country As CustomerCountry, s.Country as SupplierCountry , s.CompanyName \n",
    "    from Customers c \n",
    "    full join Suppliers s \n",
    "    on c.Country = s.Country\n",
    "\"\"\", conn)\n",
    "\n",
    "# all columns, no line wrapping\n",
    "pd.set_option('display.max_columns', None)\n",
    "pd.set_option('display.expand_frame_repr', False)\n",
    "print(df)\n",
    "\n",
    "conn.close()\n",
    "\n"
   ]
  },
  {
   "cell_type": "code",
   "execution_count": null,
   "id": "bc76e1ee",
   "metadata": {},
   "outputs": [
    {
     "name": "stdout",
     "output_type": "stream",
     "text": [
      "6 FULL OUTER JOIN ------------------------------------------------------\n"
     ]
    },
    {
     "name": "stderr",
     "output_type": "stream",
     "text": [
      "C:\\Users\\ysy\\AppData\\Local\\Temp\\ipykernel_11524\\2586574864.py:12: UserWarning: pandas only supports SQLAlchemy connectable (engine/connection) or database string URI or sqlite3 DBAPI2 connection. Other DBAPI2 objects are not tested. Please consider using SQLAlchemy.\n",
      "  df = pd.read_sql(\"\"\"\n"
     ]
    },
    {
     "name": "stdout",
     "output_type": "stream",
     "text": [
      "      CustomerID          CompanyName              ContactName          ContactTitle          Address      City Region PostalCode  Country          Phone            Fax  OrderID CustomerID  EmployeeID  OrderDate RequiredDate ShippedDate  ShipVia  Freight                    ShipName               ShipAddress        ShipCity ShipRegion ShipPostalCode  ShipCountry\n",
      "0          ALFKI  Alfreds Futterkiste             Maria Anders  Sales Representative    Obere Str. 57    Berlin   None      12209  Germany    030-0074321    030-0076545    10248      VINET           5 1996-07-04   1996-08-01  1996-07-16        3    32.38   Vins et alcools Chevalier        59 rue de l'Abbaye           Reims       None          51100       France\n",
      "1          ALFKI  Alfreds Futterkiste             Maria Anders  Sales Representative    Obere Str. 57    Berlin   None      12209  Germany    030-0074321    030-0076545    10249      TOMSP           6 1996-07-05   1996-08-16  1996-07-10        1    11.61          Toms Spezialitäten             Luisenstr. 48         Münster       None          44087      Germany\n",
      "2          ALFKI  Alfreds Futterkiste             Maria Anders  Sales Representative    Obere Str. 57    Berlin   None      12209  Germany    030-0074321    030-0076545    10250      HANAR           4 1996-07-08   1996-08-05  1996-07-12        2    65.83               Hanari Carnes           Rua do Paço, 67  Rio de Janeiro         RJ      05454-876       Brazil\n",
      "3          ALFKI  Alfreds Futterkiste             Maria Anders  Sales Representative    Obere Str. 57    Berlin   None      12209  Germany    030-0074321    030-0076545    10251      VICTE           3 1996-07-08   1996-08-05  1996-07-15        1    41.34        Victuailles en stock        2, rue du Commerce            Lyon       None          69004       France\n",
      "4          ALFKI  Alfreds Futterkiste             Maria Anders  Sales Representative    Obere Str. 57    Berlin   None      12209  Germany    030-0074321    030-0076545    10252      SUPRD           4 1996-07-09   1996-08-06  1996-07-11        2    51.30            Suprêmes délices      Boulevard Tirou, 255       Charleroi       None         B-6000      Belgium\n",
      "...          ...                  ...                      ...                   ...              ...       ...    ...        ...      ...            ...            ...      ...        ...         ...        ...          ...         ...      ...      ...                         ...                       ...             ...        ...            ...          ...\n",
      "75525      WOLZA       Wolski  Zajazd  Zbyszek Piestrzeniewicz                 Owner  ul. Filtrowa 68  Warszawa   None     01-012   Poland  (26) 642-7012  (26) 642-7012    11073      PERIC           2 1998-05-05   1998-06-02         NaT        2    24.95   Pericles Comidas clásicas  Calle Dr. Jorge Cash 321     México D.F.       None          05033       Mexico\n",
      "75526      WOLZA       Wolski  Zajazd  Zbyszek Piestrzeniewicz                 Owner  ul. Filtrowa 68  Warszawa   None     01-012   Poland  (26) 642-7012  (26) 642-7012    11074      SIMOB           7 1998-05-06   1998-06-03         NaT        2    18.44               Simons bistro              Vinbæltet 34       Kobenhavn       None           1734      Denmark\n",
      "75527      WOLZA       Wolski  Zajazd  Zbyszek Piestrzeniewicz                 Owner  ul. Filtrowa 68  Warszawa   None     01-012   Poland  (26) 642-7012  (26) 642-7012    11075      RICSU           8 1998-05-06   1998-06-03         NaT        2     6.19          Richter Supermarkt               Starenweg 5          Genève       None           1204  Switzerland\n",
      "75528      WOLZA       Wolski  Zajazd  Zbyszek Piestrzeniewicz                 Owner  ul. Filtrowa 68  Warszawa   None     01-012   Poland  (26) 642-7012  (26) 642-7012    11076      BONAP           4 1998-05-06   1998-06-03         NaT        2    38.28                    Bon app'      12, rue des Bouchers       Marseille       None          13008       France\n",
      "75529      WOLZA       Wolski  Zajazd  Zbyszek Piestrzeniewicz                 Owner  ul. Filtrowa 68  Warszawa   None     01-012   Poland  (26) 642-7012  (26) 642-7012    11077      RATTC           1 1998-05-06   1998-06-03         NaT        2     8.53  Rattlesnake Canyon Grocery           2817 Milton Dr.     Albuquerque         NM          87110          USA\n",
      "\n",
      "[75530 rows x 25 columns]\n"
     ]
    }
   ],
   "source": [
    "import pyodbc\n",
    "import pandas as pd\n",
    "\n",
    "conn = pyodbc.connect(\n",
    "    'DRIVER={ODBC Driver 17 for SQL Server};'\n",
    "    'SERVER=DESKTOP-VHHBRU7\\\\SQLEXPRESS;'\n",
    "    'DATABASE=Northwind;'\n",
    "    'Trusted_Connection=yes;'\n",
    ")\n",
    "\n",
    "print('7 CROSS JOIN ------------------------------------------------------')\n",
    "df = pd.read_sql(\"\"\"\n",
    "    SELECT * from Customers cross join orders\n",
    "\"\"\", conn)\n",
    "\n",
    "# all columns, no line wrapping\n",
    "pd.set_option('display.max_columns', None)\n",
    "pd.set_option('display.expand_frame_repr', False)\n",
    "print(df)\n",
    "\n",
    "conn.close()\n",
    "\n"
   ]
  },
  {
   "cell_type": "code",
   "execution_count": 14,
   "id": "e5712a54",
   "metadata": {},
   "outputs": [
    {
     "name": "stdout",
     "output_type": "stream",
     "text": [
      "8 SELF JOIN ------------------------------------------------------\n",
      "           Employee          Manager\n",
      "0     Nancy Davolio    Andrew Fuller\n",
      "1   Janet Leverling    Andrew Fuller\n",
      "2  Margaret Peacock    Andrew Fuller\n",
      "3   Steven Buchanan    Andrew Fuller\n",
      "4    Michael Suyama  Steven Buchanan\n",
      "5       Robert King  Steven Buchanan\n",
      "6    Laura Callahan    Andrew Fuller\n",
      "7    Anne Dodsworth  Steven Buchanan\n"
     ]
    },
    {
     "name": "stderr",
     "output_type": "stream",
     "text": [
      "C:\\Users\\ysy\\AppData\\Local\\Temp\\ipykernel_11524\\1124633081.py:12: UserWarning: pandas only supports SQLAlchemy connectable (engine/connection) or database string URI or sqlite3 DBAPI2 connection. Other DBAPI2 objects are not tested. Please consider using SQLAlchemy.\n",
      "  df = pd.read_sql(\"\"\"\n"
     ]
    }
   ],
   "source": [
    "# import pyodbc\n",
    "# import pandas as pd\n",
    "\n",
    "conn = pyodbc.connect(\n",
    "    'DRIVER={ODBC Driver 17 for SQL Server};'\n",
    "    'SERVER=DESKTOP-VHHBRU7\\\\SQLEXPRESS;'\n",
    "    'DATABASE=Northwind;'\n",
    "    'Trusted_Connection=yes;'\n",
    ")\n",
    "\n",
    "print('8 SELF JOIN ------------------------------------------------------')\n",
    "df = pd.read_sql(\"\"\"\n",
    "SELECT \n",
    "    e.firstname + ' ' + e.Lastname As Employee,\n",
    "    m.firstname + ' ' + m.Lastname as Manager\n",
    "FROM \n",
    "    Employees e\n",
    "INNER JOIN \n",
    "    Employees m\n",
    "ON \n",
    "    e.ReportsTo = m.EmployeeID\n",
    "\"\"\", conn)\n",
    "\n",
    "# all columns, no line wrapping\n",
    "pd.set_option('display.max_columns', None)\n",
    "pd.set_option('display.expand_frame_repr', False)\n",
    "print(df)\n",
    "\n",
    "conn.close()\n",
    "\n"
   ]
  },
  {
   "cell_type": "code",
   "execution_count": 15,
   "id": "06b359ec",
   "metadata": {},
   "outputs": [
    {
     "name": "stdout",
     "output_type": "stream",
     "text": [
      "9 SELF LEFT JOIN ------------------------------------------------------\n",
      "           Employee          Manager\n",
      "0     Nancy Davolio    Andrew Fuller\n",
      "1     Andrew Fuller              N/A\n",
      "2   Janet Leverling    Andrew Fuller\n",
      "3  Margaret Peacock    Andrew Fuller\n",
      "4   Steven Buchanan    Andrew Fuller\n",
      "5    Michael Suyama  Steven Buchanan\n",
      "6       Robert King  Steven Buchanan\n",
      "7    Laura Callahan    Andrew Fuller\n",
      "8    Anne Dodsworth  Steven Buchanan\n"
     ]
    },
    {
     "name": "stderr",
     "output_type": "stream",
     "text": [
      "C:\\Users\\ysy\\AppData\\Local\\Temp\\ipykernel_11524\\3284840277.py:12: UserWarning: pandas only supports SQLAlchemy connectable (engine/connection) or database string URI or sqlite3 DBAPI2 connection. Other DBAPI2 objects are not tested. Please consider using SQLAlchemy.\n",
      "  df = pd.read_sql(\"\"\"\n"
     ]
    }
   ],
   "source": [
    "# import pyodbc\n",
    "# import pandas as pd\n",
    "\n",
    "conn = pyodbc.connect(\n",
    "    'DRIVER={ODBC Driver 17 for SQL Server};'\n",
    "    'SERVER=DESKTOP-VHHBRU7\\\\SQLEXPRESS;'\n",
    "    'DATABASE=Northwind;'\n",
    "    'Trusted_Connection=yes;'\n",
    ")\n",
    "\n",
    "print('9 SELF LEFT JOIN ------------------------------------------------------')\n",
    "df = pd.read_sql(\"\"\"\n",
    "SELECT \n",
    "    e.firstname + ' ' + e.Lastname As Employee,\n",
    "    isnull(m.firstname + ' ' + m.Lastname, 'N/A') as Manager\n",
    "FROM \n",
    "    Employees e\n",
    "LEFT JOIN \n",
    "    Employees m\n",
    "ON \n",
    "    e.ReportsTo = m.EmployeeID\n",
    "\"\"\", conn)\n",
    "\n",
    "# all columns, no line wrapping\n",
    "pd.set_option('display.max_columns', None)\n",
    "pd.set_option('display.expand_frame_repr', False)\n",
    "print(df)\n",
    "\n",
    "conn.close()\n",
    "\n"
   ]
  },
  {
   "cell_type": "code",
   "execution_count": 17,
   "id": "aaa0f985",
   "metadata": {},
   "outputs": [
    {
     "name": "stdout",
     "output_type": "stream",
     "text": [
      "10 COUNT ------------------------------------------------------\n",
      "   TotalNumOrders\n",
      "0             830\n"
     ]
    },
    {
     "name": "stderr",
     "output_type": "stream",
     "text": [
      "C:\\Users\\ysy\\AppData\\Local\\Temp\\ipykernel_11524\\3458563741.py:12: UserWarning: pandas only supports SQLAlchemy connectable (engine/connection) or database string URI or sqlite3 DBAPI2 connection. Other DBAPI2 objects are not tested. Please consider using SQLAlchemy.\n",
      "  df = pd.read_sql(\"\"\"\n"
     ]
    }
   ],
   "source": [
    "# import pyodbc\n",
    "# import pandas as pd\n",
    "\n",
    "conn = pyodbc.connect(\n",
    "    'DRIVER={ODBC Driver 17 for SQL Server};'\n",
    "    'SERVER=DESKTOP-VHHBRU7\\\\SQLEXPRESS;'\n",
    "    'DATABASE=Northwind;'\n",
    "    'Trusted_Connection=yes;'\n",
    ")\n",
    "\n",
    "print('10 COUNT ------------------------------------------------------')\n",
    "df = pd.read_sql(\"\"\"\n",
    "SELECT \n",
    "    count(OrderID) as TotalNumOrders\n",
    "FROM \n",
    "    orders\n",
    "\"\"\", conn)\n",
    "\n",
    "# all columns, no line wrapping\n",
    "pd.set_option('display.max_columns', None)\n",
    "pd.set_option('display.expand_frame_repr', False)\n",
    "print(df)\n",
    "\n",
    "conn.close()\n",
    "\n"
   ]
  },
  {
   "cell_type": "code",
   "execution_count": 18,
   "id": "c8ec2525",
   "metadata": {},
   "outputs": [
    {
     "name": "stdout",
     "output_type": "stream",
     "text": [
      "11 sum ------------------------------------------------------\n",
      "     orderid  TotalCost\n",
      "0      10248      440.0\n",
      "1      10249     1863.4\n",
      "2      10250     1813.0\n",
      "3      10251      670.8\n",
      "4      10252     3730.0\n",
      "..       ...        ...\n",
      "825    11073      300.0\n",
      "826    11074      244.3\n",
      "827    11075      586.0\n",
      "828    11076     1057.0\n",
      "829    11077     1374.6\n",
      "\n",
      "[830 rows x 2 columns]\n"
     ]
    },
    {
     "name": "stderr",
     "output_type": "stream",
     "text": [
      "C:\\Users\\ysy\\AppData\\Local\\Temp\\ipykernel_11524\\3660756007.py:12: UserWarning: pandas only supports SQLAlchemy connectable (engine/connection) or database string URI or sqlite3 DBAPI2 connection. Other DBAPI2 objects are not tested. Please consider using SQLAlchemy.\n",
      "  df = pd.read_sql(\"\"\"\n"
     ]
    }
   ],
   "source": [
    "# import pyodbc\n",
    "# import pandas as pd\n",
    "\n",
    "conn = pyodbc.connect(\n",
    "    'DRIVER={ODBC Driver 17 for SQL Server};'\n",
    "    'SERVER=DESKTOP-VHHBRU7\\\\SQLEXPRESS;'\n",
    "    'DATABASE=Northwind;'\n",
    "    'Trusted_Connection=yes;'\n",
    ")\n",
    "\n",
    "print('11 sum ------------------------------------------------------')\n",
    "df = pd.read_sql(\"\"\"\n",
    "SELECT orderid, sum(UnitPrice * Quantity ) as TotalCost\n",
    "FROM [Order Details]\n",
    "GROUP BY orderid\n",
    "\"\"\", conn)\n",
    "\n",
    "# all columns, no line wrapping\n",
    "pd.set_option('display.max_columns', None)\n",
    "pd.set_option('display.expand_frame_repr', False)\n",
    "print(df)\n",
    "\n",
    "conn.close()\n",
    "\n"
   ]
  },
  {
   "cell_type": "code",
   "execution_count": null,
   "id": "98b83024",
   "metadata": {},
   "outputs": [
    {
     "name": "stdout",
     "output_type": "stream",
     "text": [
      "13 HAVING ------------------------------------------------------\n",
      "  CustomerID    \n",
      "0      GREAL  11\n",
      "1      RATTC  18\n",
      "2      SAVEA  31\n",
      "3      WHITC  14\n"
     ]
    },
    {
     "name": "stderr",
     "output_type": "stream",
     "text": [
      "C:\\Users\\ysy\\AppData\\Local\\Temp\\ipykernel_11524\\1647445476.py:12: UserWarning: pandas only supports SQLAlchemy connectable (engine/connection) or database string URI or sqlite3 DBAPI2 connection. Other DBAPI2 objects are not tested. Please consider using SQLAlchemy.\n",
      "  df = pd.read_sql(\"\"\"\n"
     ]
    }
   ],
   "source": [
    "# import pyodbc\n",
    "# import pandas as pd\n",
    "\n",
    "conn = pyodbc.connect(\n",
    "    'DRIVER={ODBC Driver 17 for SQL Server};'\n",
    "    'SERVER=DESKTOP-VHHBRU7\\\\SQLEXPRESS;'\n",
    "    'DATABASE=Northwind;'\n",
    "    'Trusted_Connection=yes;'\n",
    ")\n",
    "\n",
    "print('13 HAVING ------------------------------------------------------')\n",
    "df = pd.read_sql(\"\"\"\n",
    "                SELECT c.CustomerID, count(o.OrderID) \n",
    "                FROM Customers c\n",
    "                INNER JOIN orders o\n",
    "                ON c.CustomerID = o.CustomerID\n",
    "                where c.Country = 'USA'\n",
    "                GROUP BY c.CustomerID\n",
    "                having count(o.OrderID) > 10\n",
    "\"\"\", conn)\n",
    "\n",
    "# all columns, no line wrapping\n",
    "pd.set_option('display.max_columns', None)\n",
    "pd.set_option('display.expand_frame_repr', False)\n",
    "print(df)\n",
    "\n",
    "conn.close()\n",
    "\n"
   ]
  },
  {
   "cell_type": "code",
   "execution_count": 20,
   "id": "b23d2e70",
   "metadata": {},
   "outputs": [
    {
     "name": "stdout",
     "output_type": "stream",
     "text": [
      "14 subquery ------------------------------------------------------\n",
      "        ContactName    City\n",
      "0     Martín Sommer  Madrid\n",
      "1        Diego Roel  Madrid\n",
      "2  Alejandra Camino  Madrid\n"
     ]
    },
    {
     "name": "stderr",
     "output_type": "stream",
     "text": [
      "C:\\Users\\ysy\\AppData\\Local\\Temp\\ipykernel_11524\\2321855945.py:12: UserWarning: pandas only supports SQLAlchemy connectable (engine/connection) or database string URI or sqlite3 DBAPI2 connection. Other DBAPI2 objects are not tested. Please consider using SQLAlchemy.\n",
      "  df = pd.read_sql(\"\"\"\n"
     ]
    }
   ],
   "source": [
    "# import pyodbc\n",
    "# import pandas as pd\n",
    "\n",
    "conn = pyodbc.connect(\n",
    "    'DRIVER={ODBC Driver 17 for SQL Server};'\n",
    "    'SERVER=DESKTOP-VHHBRU7\\\\SQLEXPRESS;'\n",
    "    'DATABASE=Northwind;'\n",
    "    'Trusted_Connection=yes;'\n",
    ")\n",
    "\n",
    "print('14 subquery ------------------------------------------------------')\n",
    "df = pd.read_sql(\"\"\"\n",
    "                SELECT ContactName, City\n",
    "                FROM Customers c\n",
    "                where city in (\n",
    "                 select city from Customers where ContactName ='Alejandra Camino')\n",
    "\"\"\", conn)\n",
    "\n",
    "# all columns, no line wrapping\n",
    "pd.set_option('display.max_columns', None)\n",
    "pd.set_option('display.expand_frame_repr', False)\n",
    "print(df)\n",
    "\n",
    "conn.close()\n",
    "\n"
   ]
  },
  {
   "cell_type": "code",
   "execution_count": 21,
   "id": "c301d59f",
   "metadata": {},
   "outputs": [
    {
     "name": "stdout",
     "output_type": "stream",
     "text": [
      "15 subquery ------------------------------------------------------\n",
      "                ContactName  TotalOrders\n",
      "0              Maria Anders            6\n",
      "1              Ana Trujillo            4\n",
      "2            Antonio Moreno            7\n",
      "3              Thomas Hardy           13\n",
      "4        Christina Berglund           18\n",
      "..                      ...          ...\n",
      "86         Pirkko Koskitalo           15\n",
      "87            Paula Parente            9\n",
      "88           Karl Jablonski           14\n",
      "89          Matti Karttunen            7\n",
      "90  Zbyszek Piestrzeniewicz            7\n",
      "\n",
      "[91 rows x 2 columns]\n"
     ]
    },
    {
     "name": "stderr",
     "output_type": "stream",
     "text": [
      "C:\\Users\\ysy\\AppData\\Local\\Temp\\ipykernel_11524\\986296127.py:12: UserWarning: pandas only supports SQLAlchemy connectable (engine/connection) or database string URI or sqlite3 DBAPI2 connection. Other DBAPI2 objects are not tested. Please consider using SQLAlchemy.\n",
      "  df = pd.read_sql(\"\"\"\n"
     ]
    }
   ],
   "source": [
    "# import pyodbc\n",
    "# import pandas as pd\n",
    "\n",
    "conn = pyodbc.connect(\n",
    "    'DRIVER={ODBC Driver 17 for SQL Server};'\n",
    "    'SERVER=DESKTOP-VHHBRU7\\\\SQLEXPRESS;'\n",
    "    'DATABASE=Northwind;'\n",
    "    'Trusted_Connection=yes;'\n",
    ")\n",
    "\n",
    "print('15 subquery ------------------------------------------------------')\n",
    "df = pd.read_sql(\"\"\"\n",
    "                SELECT ContactName, (\n",
    "                 SELECT count(*)\n",
    "                 from orders o\n",
    "                 where c.CustomerID = o.CustomerID\n",
    "                 ) as TotalOrders\n",
    "                from Customers c\n",
    "\"\"\", conn)\n",
    "\n",
    "# all columns, no line wrapping\n",
    "pd.set_option('display.max_columns', None)\n",
    "pd.set_option('display.expand_frame_repr', False)\n",
    "print(df)\n",
    "\n",
    "conn.close()\n",
    "\n"
   ]
  },
  {
   "cell_type": "code",
   "execution_count": 22,
   "id": "284d137f",
   "metadata": {},
   "outputs": [
    {
     "name": "stdout",
     "output_type": "stream",
     "text": [
      "16 subquery ------------------------------------------------------\n",
      "         ContactName CustomerID\n",
      "0     Jose Pavarotti      SAVEA\n",
      "1      Roland Mendel      ERNSH\n",
      "2        Horst Kloss      QUICK\n",
      "3   Patricia McKenna      HUNGO\n",
      "4      Maria Larsson      FOLKO\n",
      "..               ...        ...\n",
      "86    Manuel Pereira      GROSR\n",
      "87        John Steel      LAZYK\n",
      "88   Francisco Chang      CENTC\n",
      "89        Diego Roel      FISSA\n",
      "90    Marie Bertrand      PARIS\n",
      "\n",
      "[91 rows x 2 columns]\n"
     ]
    },
    {
     "name": "stderr",
     "output_type": "stream",
     "text": [
      "C:\\Users\\ysy\\AppData\\Local\\Temp\\ipykernel_11524\\3561940706.py:12: UserWarning: pandas only supports SQLAlchemy connectable (engine/connection) or database string URI or sqlite3 DBAPI2 connection. Other DBAPI2 objects are not tested. Please consider using SQLAlchemy.\n",
      "  df = pd.read_sql(\"\"\"\n"
     ]
    }
   ],
   "source": [
    "# import pyodbc\n",
    "# import pandas as pd\n",
    "\n",
    "conn = pyodbc.connect(\n",
    "    'DRIVER={ODBC Driver 17 for SQL Server};'\n",
    "    'SERVER=DESKTOP-VHHBRU7\\\\SQLEXPRESS;'\n",
    "    'DATABASE=Northwind;'\n",
    "    'Trusted_Connection=yes;'\n",
    ")\n",
    "\n",
    "print('16 subquery ------------------------------------------------------')\n",
    "df = pd.read_sql(\"\"\"\n",
    "                SELECT ContactName, CustomerID\n",
    "                from Customers c\n",
    "                order by (\n",
    "                    select count(*)\n",
    "                    from orders o\n",
    "                    where c.CustomerID = o.CustomerID\n",
    "                 )\n",
    "                 desc\n",
    "\"\"\", conn)\n",
    "\n",
    "# all columns, no line wrapping\n",
    "pd.set_option('display.max_columns', None)\n",
    "pd.set_option('display.expand_frame_repr', False)\n",
    "print(df)\n",
    "\n",
    "conn.close()\n",
    "\n"
   ]
  },
  {
   "cell_type": "code",
   "execution_count": 27,
   "id": "4b315960",
   "metadata": {},
   "outputs": [
    {
     "name": "stdout",
     "output_type": "stream",
     "text": [
      "17 subquery ------------------------------------------------------\n",
      "   CustomerID  OrderCount\n",
      "0       AROUT          13\n",
      "1       BERGS          18\n",
      "2       BLONP          11\n",
      "3       BONAP          17\n",
      "4       BOTTM          14\n",
      "5       BSBEV          10\n",
      "6       ERNSH          30\n",
      "7       FOLKO          19\n",
      "8       FRANK          15\n",
      "9       GODOS          10\n",
      "10      GREAL          11\n",
      "11      HANAR          14\n",
      "12      HILAA          18\n",
      "13      HUNGO          19\n",
      "14      ISLAT          10\n",
      "15      KOENE          14\n",
      "16      LAMAI          14\n",
      "17      LEHMS          15\n",
      "18      LILAS          14\n",
      "19      LINOD          12\n",
      "20      MAGAA          10\n",
      "21      MEREP          13\n",
      "22      OLDWO          10\n",
      "23      OTTIK          10\n",
      "24      PICCO          10\n",
      "25      QUEEN          13\n",
      "26      QUICK          28\n",
      "27      RATTC          18\n",
      "28      REGGC          12\n",
      "29      RICAR          11\n",
      "30      RICSU          10\n",
      "31      SAVEA          31\n",
      "32      SUPRD          12\n",
      "33      TORTU          10\n",
      "34      VAFFE          11\n",
      "35      VICTE          10\n",
      "36      WANDK          10\n",
      "37      WARTH          15\n",
      "38      WHITC          14\n"
     ]
    },
    {
     "name": "stderr",
     "output_type": "stream",
     "text": [
      "C:\\Users\\ysy\\AppData\\Local\\Temp\\ipykernel_11524\\2623512515.py:12: UserWarning: pandas only supports SQLAlchemy connectable (engine/connection) or database string URI or sqlite3 DBAPI2 connection. Other DBAPI2 objects are not tested. Please consider using SQLAlchemy.\n",
      "  df = pd.read_sql(\"\"\"\n"
     ]
    }
   ],
   "source": [
    "# import pyodbc\n",
    "# import pandas as pd\n",
    "\n",
    "conn = pyodbc.connect(\n",
    "    'DRIVER={ODBC Driver 17 for SQL Server};'\n",
    "    'SERVER=DESKTOP-VHHBRU7\\\\SQLEXPRESS;'\n",
    "    'DATABASE=Northwind;'\n",
    "    'Trusted_Connection=yes;'\n",
    ")\n",
    "\n",
    "print('17 subquery ------------------------------------------------------')\n",
    "df = pd.read_sql(\"\"\"\n",
    "                select CustomerID, count(*) as OrderCount\n",
    "                from orders \n",
    "                group by CustomerID\n",
    "                having count(*) > (\n",
    "                    select avg(OrderCount) from (\n",
    "                        select count(*) as OrderCount \n",
    "                        from orders\n",
    "                        group by CustomerID\n",
    "                    ) as OrderStats\n",
    "                 )\n",
    "                 \n",
    "\"\"\", conn)\n",
    "\n",
    "# all columns, no line wrapping\n",
    "pd.set_option('display.max_columns', None)\n",
    "pd.set_option('display.expand_frame_repr', False)\n",
    "print(df)\n",
    "\n",
    "conn.close()\n",
    "\n"
   ]
  },
  {
   "cell_type": "code",
   "execution_count": 30,
   "id": "5c591b7e",
   "metadata": {},
   "outputs": [
    {
     "name": "stdout",
     "output_type": "stream",
     "text": [
      "18 subquery vs join------------------------------------------------------\n",
      "  CustomerID     ContactName    City Country\n",
      "0      FISSA      Diego Roel  Madrid   Spain\n",
      "1      PARIS  Marie Bertrand   Paris  France\n"
     ]
    },
    {
     "name": "stderr",
     "output_type": "stream",
     "text": [
      "C:\\Users\\ysy\\AppData\\Local\\Temp\\ipykernel_11524\\1586500863.py:12: UserWarning: pandas only supports SQLAlchemy connectable (engine/connection) or database string URI or sqlite3 DBAPI2 connection. Other DBAPI2 objects are not tested. Please consider using SQLAlchemy.\n",
      "  df = pd.read_sql(\"\"\"\n"
     ]
    }
   ],
   "source": [
    "# import pyodbc\n",
    "# import pandas as pd\n",
    "\n",
    "conn = pyodbc.connect(\n",
    "    'DRIVER={ODBC Driver 17 for SQL Server};'\n",
    "    'SERVER=DESKTOP-VHHBRU7\\\\SQLEXPRESS;'\n",
    "    'DATABASE=Northwind;'\n",
    "    'Trusted_Connection=yes;'\n",
    ")\n",
    "\n",
    "print('18 subquery vs join------------------------------------------------------')\n",
    "df = pd.read_sql(\"\"\"\n",
    "                select c.CustomerID, c.ContactName, c.City, c.Country\n",
    "                from Customers c\n",
    "                left join orders o\n",
    "                on  c.CustomerID =  o.CustomerID\n",
    "                where o.OrderID is null\n",
    "                 \n",
    "\"\"\", conn)\n",
    "\n",
    "# all columns, no line wrapping\n",
    "pd.set_option('display.max_columns', None)\n",
    "pd.set_option('display.expand_frame_repr', False)\n",
    "print(df)\n",
    "\n",
    "conn.close()\n",
    "\n"
   ]
  },
  {
   "cell_type": "code",
   "execution_count": 31,
   "id": "3a854bf7",
   "metadata": {},
   "outputs": [
    {
     "name": "stdout",
     "output_type": "stream",
     "text": [
      "18 subquery vs join , 2 subquery------------------------------------------------------\n",
      "  CustomerID     ContactName    City Country\n",
      "0      FISSA      Diego Roel  Madrid   Spain\n",
      "1      PARIS  Marie Bertrand   Paris  France\n"
     ]
    },
    {
     "name": "stderr",
     "output_type": "stream",
     "text": [
      "C:\\Users\\ysy\\AppData\\Local\\Temp\\ipykernel_11524\\607515298.py:12: UserWarning: pandas only supports SQLAlchemy connectable (engine/connection) or database string URI or sqlite3 DBAPI2 connection. Other DBAPI2 objects are not tested. Please consider using SQLAlchemy.\n",
      "  df = pd.read_sql(\"\"\"\n"
     ]
    }
   ],
   "source": [
    "# import pyodbc\n",
    "# import pandas as pd\n",
    "\n",
    "conn = pyodbc.connect(\n",
    "    'DRIVER={ODBC Driver 17 for SQL Server};'\n",
    "    'SERVER=DESKTOP-VHHBRU7\\\\SQLEXPRESS;'\n",
    "    'DATABASE=Northwind;'\n",
    "    'Trusted_Connection=yes;'\n",
    ")\n",
    "\n",
    "print('18 subquery vs join , 2 subquery------------------------------------------------------')\n",
    "df = pd.read_sql(\"\"\"\n",
    "                select c.CustomerID, c.ContactName, c.City, c.Country\n",
    "                from Customers c\n",
    "                where c.CustomerID not in (\n",
    "                    select o.CustomerID from orders o)\n",
    "                 \n",
    "\"\"\", conn)\n",
    "\n",
    "# all columns, no line wrapping\n",
    "pd.set_option('display.max_columns', None)\n",
    "pd.set_option('display.expand_frame_repr', False)\n",
    "print(df)\n",
    "\n",
    "conn.close()\n",
    "\n"
   ]
  },
  {
   "cell_type": "code",
   "execution_count": 32,
   "id": "7a0153c0",
   "metadata": {},
   "outputs": [
    {
     "name": "stdout",
     "output_type": "stream",
     "text": [
      "19 Union------------------------------------------------------\n",
      "           city  country\n",
      "0        Aachen  Germany\n",
      "1   Albuquerque      USA\n",
      "2     Anchorage      USA\n",
      "3         Århus  Denmark\n",
      "4     Barcelona    Spain\n",
      "..          ...      ...\n",
      "66    Tsawassen   Canada\n",
      "67    Vancouver   Canada\n",
      "68   Versailles   France\n",
      "69  Walla Walla      USA\n",
      "70     Warszawa   Poland\n",
      "\n",
      "[71 rows x 2 columns]\n"
     ]
    },
    {
     "name": "stderr",
     "output_type": "stream",
     "text": [
      "C:\\Users\\ysy\\AppData\\Local\\Temp\\ipykernel_11524\\815782701.py:12: UserWarning: pandas only supports SQLAlchemy connectable (engine/connection) or database string URI or sqlite3 DBAPI2 connection. Other DBAPI2 objects are not tested. Please consider using SQLAlchemy.\n",
      "  df = pd.read_sql(\"\"\"\n"
     ]
    }
   ],
   "source": [
    "# import pyodbc\n",
    "# import pandas as pd\n",
    "\n",
    "conn = pyodbc.connect(\n",
    "    'DRIVER={ODBC Driver 17 for SQL Server};'\n",
    "    'SERVER=DESKTOP-VHHBRU7\\\\SQLEXPRESS;'\n",
    "    'DATABASE=Northwind;'\n",
    "    'Trusted_Connection=yes;'\n",
    ")\n",
    "\n",
    "print('19 Union------------------------------------------------------')\n",
    "df = pd.read_sql(\"\"\"\n",
    "                select city, country\n",
    "                from Customers c\n",
    "                 union\n",
    "                select city, country\n",
    "                from employees e\n",
    "                 order by city\n",
    "                \n",
    "                 \n",
    "\"\"\", conn)\n",
    "\n",
    "# all columns, no line wrapping\n",
    "pd.set_option('display.max_columns', None)\n",
    "pd.set_option('display.expand_frame_repr', False)\n",
    "print(df)\n",
    "\n",
    "conn.close()\n",
    "\n"
   ]
  },
  {
   "cell_type": "code",
   "execution_count": 33,
   "id": "d619a2e7",
   "metadata": {},
   "outputs": [
    {
     "name": "stdout",
     "output_type": "stream",
     "text": [
      "19 Union------------------------------------------------------\n",
      "           city  country\n",
      "0        Aachen  Germany\n",
      "1   Albuquerque      USA\n",
      "2     Anchorage      USA\n",
      "3         Århus  Denmark\n",
      "4     Barcelona    Spain\n",
      "..          ...      ...\n",
      "95    Tsawassen   Canada\n",
      "96    Vancouver   Canada\n",
      "97   Versailles   France\n",
      "98  Walla Walla      USA\n",
      "99     Warszawa   Poland\n",
      "\n",
      "[100 rows x 2 columns]\n"
     ]
    },
    {
     "name": "stderr",
     "output_type": "stream",
     "text": [
      "C:\\Users\\ysy\\AppData\\Local\\Temp\\ipykernel_11524\\2049630711.py:12: UserWarning: pandas only supports SQLAlchemy connectable (engine/connection) or database string URI or sqlite3 DBAPI2 connection. Other DBAPI2 objects are not tested. Please consider using SQLAlchemy.\n",
      "  df = pd.read_sql(\"\"\"\n"
     ]
    }
   ],
   "source": [
    "# import pyodbc\n",
    "# import pandas as pd\n",
    "\n",
    "conn = pyodbc.connect(\n",
    "    'DRIVER={ODBC Driver 17 for SQL Server};'\n",
    "    'SERVER=DESKTOP-VHHBRU7\\\\SQLEXPRESS;'\n",
    "    'DATABASE=Northwind;'\n",
    "    'Trusted_Connection=yes;'\n",
    ")\n",
    "\n",
    "print('19 Union------------------------------------------------------')\n",
    "df = pd.read_sql(\"\"\"\n",
    "                select city, country\n",
    "                from Customers c\n",
    "                 union all\n",
    "                select city, country\n",
    "                from employees e\n",
    "                 order by city\n",
    "                \n",
    "                 \n",
    "\"\"\", conn)\n",
    "\n",
    "# all columns, no line wrapping\n",
    "pd.set_option('display.max_columns', None)\n",
    "pd.set_option('display.expand_frame_repr', False)\n",
    "print(df)\n",
    "\n",
    "conn.close()\n",
    "\n"
   ]
  }
 ],
 "metadata": {
  "kernelspec": {
   "display_name": "base",
   "language": "python",
   "name": "python3"
  },
  "language_info": {
   "codemirror_mode": {
    "name": "ipython",
    "version": 3
   },
   "file_extension": ".py",
   "mimetype": "text/x-python",
   "name": "python",
   "nbconvert_exporter": "python",
   "pygments_lexer": "ipython3",
   "version": "3.13.5"
  }
 },
 "nbformat": 4,
 "nbformat_minor": 5
}
